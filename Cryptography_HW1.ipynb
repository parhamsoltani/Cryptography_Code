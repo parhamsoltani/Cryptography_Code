{
  "nbformat": 4,
  "nbformat_minor": 0,
  "metadata": {
    "colab": {
      "provenance": []
    },
    "kernelspec": {
      "name": "python3",
      "display_name": "Python 3"
    },
    "language_info": {
      "name": "python"
    }
  },
  "cells": [
    {
      "cell_type": "markdown",
      "source": [
        "## Q1"
      ],
      "metadata": {
        "id": "-XcufVB8Bwx_"
      }
    },
    {
      "cell_type": "code",
      "execution_count": 2,
      "metadata": {
        "colab": {
          "base_uri": "https://localhost:8080/",
          "height": 1000
        },
        "id": "6WbrK2FOBqkB",
        "outputId": "399ce05b-d11f-4028-9e1a-4848929a2ba9"
      },
      "outputs": [
        {
          "output_type": "stream",
          "name": "stdout",
          "text": [
            "Character frequency percentages:\n",
            "Character e: 11.53%\n",
            "Character a: 8.65%\n",
            "Character h: 8.54%\n",
            "Character t: 8.20%\n",
            "Character s: 7.43%\n",
            "Character n: 6.98%\n",
            "Character o: 6.98%\n",
            "Character i: 6.21%\n",
            "Character d: 5.21%\n",
            "Character r: 4.88%\n",
            "Character f: 4.21%\n",
            "Character l: 3.55%\n",
            "Character w: 3.10%\n",
            "Character c: 2.44%\n",
            "Character y: 2.11%\n",
            "Character m: 1.77%\n",
            "Character u: 1.66%\n",
            "Character k: 1.44%\n",
            "Character g: 1.22%\n",
            "Character p: 1.22%\n",
            "Character b: 1.11%\n",
            "Character T: 0.55%\n",
            "Character I: 0.22%\n",
            "Character B: 0.22%\n",
            "Character v: 0.22%\n",
            "Character H: 0.11%\n",
            "Character G: 0.11%\n",
            "Character S: 0.11%\n"
          ]
        },
        {
          "output_type": "display_data",
          "data": {
            "text/plain": [
              "<Figure size 1500x600 with 1 Axes>"
            ],
            "image/png": "[encoded data removed]"
          },
          "metadata": {}
        }
      ],
      "source": [
        "# Import required libraries\n",
        "import matplotlib.pyplot as plt\n",
        "from collections import Counter\n",
        "\n",
        "# Sample text - The Old Man and the Sea excerpt\n",
        "sample_text = \"\"\"\n",
        "He was an old man who fished alone in a skiff in the Gulf Stream and he had gone eighty-four days now without taking a fish. In the first forty days a boy had been with him. But after forty days without a fish the boy's parents had told him that the old man was now definitely and finally salao, which is the worst form of unlucky, and the boy had gone at their orders in another boat which caught three good fish the first week. It made the boy sad to see the old man come in each day with his skiff empty and he always went down to help him carry either the coiled lines or the gaff and harpoon and the sail that was furled around the mast. The sail was patched with flour sacks and, furled, it looked like the flag of permanent defeat.\n",
        "\n",
        "The old man was thin and gaunt with deep wrinkles in the back of his neck. The brown spots of the benevolent skin cancer the sun brings from its reflection on the tropic sea were on his cheeks. The spots ran well down the sides of his face and his hands had the deep-creased scars from handling heavy fish on the cords. But none of these scars were fresh. They were as old as erosions in a fishless desert.\n",
        "\"\"\"\n",
        "\n",
        "# Save text to file\n",
        "with open('input_text.txt', 'w', encoding='utf-8') as f:\n",
        "    f.write(sample_text)\n",
        "\n",
        "# Read text from file\n",
        "with open('input_text.txt', 'r', encoding='utf-8') as f:\n",
        "    text = f.read()\n",
        "\n",
        "# Keep only alphabetic characters\n",
        "text = ''.join(c for c in text if c.isalpha())\n",
        "\n",
        "# Count character frequencies\n",
        "char_count = Counter(text)\n",
        "total_chars = len(text)\n",
        "\n",
        "# Calculate percentages\n",
        "percentages = {char: (count / total_chars) * 100 for char, count in char_count.items()}\n",
        "\n",
        "# Sort by percentage in descending order\n",
        "sorted_percentages = dict(sorted(percentages.items(), key=lambda x: x[1], reverse=True))\n",
        "\n",
        "# Print results\n",
        "print(\"Character frequency percentages:\")\n",
        "for char, percentage in sorted_percentages.items():\n",
        "    print(f\"Character {char}: {percentage:.2f}%\")\n",
        "\n",
        "# Create bar chart\n",
        "plt.figure(figsize=(15, 6))\n",
        "chars = list(sorted_percentages.keys())\n",
        "percentages_values = list(sorted_percentages.values())\n",
        "\n",
        "plt.bar(chars, percentages_values)\n",
        "plt.title('Character Frequency Distribution', fontsize=14)\n",
        "plt.xlabel('Characters')\n",
        "plt.ylabel('Frequency (%)')\n",
        "plt.xticks(rotation=45)\n",
        "plt.tight_layout()\n",
        "plt.show()"
      ]
    },
    {
      "cell_type": "markdown",
      "source": [
        "## Q2"
      ],
      "metadata": {
        "id": "0UpX2HqZC42l"
      }
    },
    {
      "cell_type": "code",
      "source": [
        "def shift_cipher(text, key, mode='encrypt'):\n",
        "    result = ''\n",
        "\n",
        "    # If decrypting, reverse the key\n",
        "    if mode == 'decrypt':\n",
        "        key = -key\n",
        "\n",
        "    for char in text:\n",
        "        # Only shift English letters\n",
        "        if char.isalpha():\n",
        "            # Get ASCII offset based on case\n",
        "            ascii_offset = ord('A') if char.isupper() else ord('a')\n",
        "            # Calculate new position after shift\n",
        "            new_pos = (ord(char) - ascii_offset + key) % 26\n",
        "            # Convert back to character\n",
        "            char = chr(new_pos + ascii_offset)\n",
        "        result += char\n",
        "\n",
        "    return result\n",
        "\n",
        "# Get input from user\n",
        "text = input(\"Enter your text: \")\n",
        "key = int(input(\"Enter shift key (1-25): \"))\n",
        "\n",
        "# Encrypt\n",
        "encrypted = shift_cipher(text, key, 'encrypt')\n",
        "print(f\"Encrypted text: {encrypted}\")\n",
        "\n",
        "# Decrypt\n",
        "decrypted = shift_cipher(encrypted, key, 'decrypt')\n",
        "print(f\"Decrypted text: {decrypted}\")"
      ],
      "metadata": {
        "colab": {
          "base_uri": "https://localhost:8080/"
        },
        "id": "2AMlxGMZCXDx",
        "outputId": "01d49fae-0c12-4896-edc2-78a5e774e482"
      },
      "execution_count": 3,
      "outputs": [
        {
          "output_type": "stream",
          "name": "stdout",
          "text": [
            "Enter your text: Cryptography session\n",
            "Enter shift key (1-25): 3\n",
            "Encrypted text: Fubswrjudskb vhvvlrq\n",
            "Decrypted text: Cryptography session\n"
          ]
        }
      ]
    },
    {
      "cell_type": "markdown",
      "source": [
        "## Q3"
      ],
      "metadata": {
        "id": "80eLcFxoDLbo"
      }
    },
    {
      "cell_type": "code",
      "source": [
        "def encrypt(text, key):\n",
        "    # Define encryption characters for each letter\n",
        "    mapping = {\n",
        "        'a': '@', 'b': '#', 'c': '$', 'd': '%', 'e': '^',\n",
        "        'f': '&', 'g': '*', 'h': '(', 'i': ')', 'j': '-',\n",
        "        'k': '+', 'l': '=', 'm': '[', 'n': ']', 'o': '{',\n",
        "        'p': '}', 'q': '|', 'r': '\\\\', 's': '<', 't': '>',\n",
        "        'u': '?', 'v': '/', 'w': '~', 'x': '`', 'y': '!',\n",
        "        'z': '#'\n",
        "    }\n",
        "\n",
        "    # Check for valid key\n",
        "    if key not in mapping.values():\n",
        "        return \"Invalid key\"\n",
        "\n",
        "    encrypted = \"\"\n",
        "    for char in text.lower():\n",
        "        if char in mapping:\n",
        "            # Encrypt using the key\n",
        "            encrypted += key + mapping[char]\n",
        "        else:\n",
        "            encrypted += char\n",
        "\n",
        "    return encrypted\n",
        "\n",
        "def decrypt(encrypted_text, key):\n",
        "    # Define reverse mapping for decryption\n",
        "    reverse_mapping = {\n",
        "        '@': 'a', '#': 'b', '$': 'c', '%': 'd', '^': 'e',\n",
        "        '&': 'f', '*': 'g', '(': 'h', ')': 'i', '-': 'j',\n",
        "        '+': 'k', '=': 'l', '[': 'm', ']': 'n', '{': 'o',\n",
        "        '}': 'p', '|': 'q', '\\\\': 'r', '<': 's', '>': 't',\n",
        "        '?': 'u', '/': 'v', '~': 'w', '`': 'x', '!': 'y',\n",
        "        '#': 'z'\n",
        "    }\n",
        "\n",
        "    if key not in reverse_mapping:\n",
        "        return \"Invalid key\"\n",
        "\n",
        "    decrypted = \"\"\n",
        "    i = 0\n",
        "    while i < len(encrypted_text):\n",
        "        if encrypted_text[i] == key and i+1 < len(encrypted_text):\n",
        "            # Decrypt using the key\n",
        "            if encrypted_text[i+1] in reverse_mapping:\n",
        "                decrypted += reverse_mapping[encrypted_text[i+1]]\n",
        "                i += 2\n",
        "            else:\n",
        "                decrypted += encrypted_text[i]\n",
        "                i += 1\n",
        "        else:\n",
        "            decrypted += encrypted_text[i]\n",
        "            i += 1\n",
        "\n",
        "    return decrypted\n",
        "\n",
        "# Test the program\n",
        "text = input(\"Enter your text: \")\n",
        "key = input(\"Enter encryption key (like @, #, $ etc.): \")\n",
        "\n",
        "encrypted = encrypt(text, key)\n",
        "print(\"Encrypted text:\", encrypted)\n",
        "\n",
        "decrypted = decrypt(encrypted, key)\n",
        "print(\"Decrypted text:\", decrypted)"
      ],
      "metadata": {
        "colab": {
          "base_uri": "https://localhost:8080/"
        },
        "id": "RpNmlyZ-DBXk",
        "outputId": "5b5f7a84-1f76-4ad4-9285-4761547e2044"
      },
      "execution_count": 6,
      "outputs": [
        {
          "output_type": "stream",
          "name": "stdout",
          "text": [
            "Enter your text: sanguine sanctum\n",
            "Enter encryption key (like @, #, $ etc.): $\n",
            "Encrypted text: $<$@$]$*$?$)$]$^ $<$@$]$$$>$?$[\n",
            "Decrypted text: sanguine sanctum\n"
          ]
        }
      ]
    },
    {
      "cell_type": "markdown",
      "source": [
        "## Q4"
      ],
      "metadata": {
        "id": "3-dJdXMCE53T"
      }
    },
    {
      "cell_type": "code",
      "source": [
        "def solve_congruence(a1, b1, a2, b2, m):\n",
        "    # 5x - 1 ≡ 3x + 1 (mod 26)\n",
        "    # 5x - 3x ≡ 1 + 1 (mod 26)\n",
        "    # 2x ≡ 2 (mod 26)\n",
        "\n",
        "    # Subtract coefficients of x\n",
        "    a = a1 - a2  # 5 - 3 = 2\n",
        "    # Move constants to right side\n",
        "    b = b2 - b1  # 1 - (-1) = 2\n",
        "\n",
        "    # Calculate GCD\n",
        "    def gcd(a, b):\n",
        "        while b:\n",
        "            a, b = b, a % b\n",
        "        return a\n",
        "\n",
        "    # Modular multiplicative inverse\n",
        "    def mod_inverse(a, m):\n",
        "        def extended_gcd(a, b):\n",
        "            if a == 0:\n",
        "                return b, 0, 1\n",
        "            gcd, x1, y1 = extended_gcd(b % a, a)\n",
        "            x = y1 - (b // a) * x1\n",
        "            y = x1\n",
        "            return gcd, x, y\n",
        "\n",
        "        g, x, _ = extended_gcd(a, m)\n",
        "        if g != 1:\n",
        "            return None\n",
        "        return x % m\n",
        "\n",
        "    # Check GCD\n",
        "    g = gcd(abs(a), m)\n",
        "    if b % g != 0:\n",
        "        return []  # No solution\n",
        "\n",
        "    # Simplify equation\n",
        "    a //= g\n",
        "    b //= g\n",
        "    m //= g\n",
        "\n",
        "    # Find modular multiplicative inverse\n",
        "    a_inv = mod_inverse(a, m)\n",
        "    if a_inv is None:\n",
        "        return []\n",
        "\n",
        "    # Initial solution\n",
        "    x0 = (a_inv * b) % m\n",
        "\n",
        "    # Find all solutions\n",
        "    solutions = [(x0 + k * m) for k in range(g)]\n",
        "\n",
        "    return solutions\n",
        "\n",
        "# Solve the congruence\n",
        "solutions = solve_congruence(5, -1, 3, 1, 26)\n",
        "\n",
        "print(\"Solutions to the congruence equation:\")\n",
        "print(f\"5x - 1 ≡ 3x + 1 (mod 26)\")\n",
        "print(\"x ≡\", solutions, \"(mod 26)\")"
      ],
      "metadata": {
        "colab": {
          "base_uri": "https://localhost:8080/"
        },
        "id": "barUscIHEJ7v",
        "outputId": "25a2a1f1-761d-405f-9390-0767ecb5fde9"
      },
      "execution_count": 7,
      "outputs": [
        {
          "output_type": "stream",
          "name": "stdout",
          "text": [
            "Solutions to the congruence equation:\n",
            "5x - 1 ≡ 3x + 1 (mod 26)\n",
            "x ≡ [1, 14] (mod 26)\n"
          ]
        }
      ]
    },
    {
      "cell_type": "code",
      "source": [],
      "metadata": {
        "id": "0a13BTXAFLh6"
      },
      "execution_count": null,
      "outputs": []
    }
  ]
}